{
 "cells": [
  {
   "cell_type": "markdown",
   "id": "9283a03c-9223-4cba-9849-021e0637fd8c",
   "metadata": {},
   "source": [
    "# Analysis"
   ]
  },
  {
   "cell_type": "markdown",
   "id": "764a798c-461f-4414-be00-0567e95675ee",
   "metadata": {},
   "source": [
    "Template notebook for analysis, including some commonly used starter code and formatting techniques.\n",
    "- generated from https://github.com/pawlodkowski/analysis_template"
   ]
  },
  {
   "cell_type": "markdown",
   "id": "e2bd1ad4-ec53-4afc-ab7b-60d47433e97a",
   "metadata": {},
   "source": [
    "## Contents<a class=\"anchor\" id=\"contents\"></a>\n",
    "\n",
    "1. [Background](#background)\n",
    "\n",
    "2. [Executive Summary](#summary)\n",
    "\n",
    "3. [Q1](#q1)\n",
    "\n",
    "    a. [Q1a](#1a)\n",
    "    \n",
    "    b. [Q1b](#1b)\n",
    "\n",
    "4. [Q2](#q2)\n",
    "\n",
    "    a. [Q2a](#2a)\n",
    "    \n",
    "    b. [Q2b](#2b)\n",
    "    \n",
    "5. [Appendix](#Appendix)\n",
    "\n",
    "6. [Footnotes](#Footnotes)"
   ]
  },
  {
   "cell_type": "code",
   "execution_count": null,
   "id": "5095eac5-289f-4c85-a25b-7eda66e071ba",
   "metadata": {
    "tags": []
   },
   "outputs": [],
   "source": [
    "import os\n",
    "import re\n",
    "from typing import List, Tuple\n",
    "\n",
    "import numpy as np\n",
    "import pandas as pd\n",
    "import plotly.express as px\n",
    "import plotly.figure_factory as ff\n",
    "import sqlalchemy\n",
    "import yaml\n",
    "from IPython.display import Markdown, display, display_html\n",
    "from scipy import stats\n",
    "\n",
    "pd.options.plotting.backend = \"plotly\"\n",
    "\n",
    "def get_db_url(file='database.yml', conn='dwh') -> str:\n",
    "    \"\"\"\n",
    "    Returns database URL from credential variables found in .yml file.\n",
    "    \"\"\"\n",
    "    path_options = [os.path.expanduser('~') + '/.rport/' + file,\n",
    "                    os.getcwd() + '/' + file,\n",
    "                    '/root/' + file]\n",
    "    for opt in path_options:\n",
    "        if os.path.isfile(opt):\n",
    "            with open(opt) as data:\n",
    "                creds = yaml.safe_load(data)\n",
    "            break\n",
    "    else:\n",
    "        err = '\\nCredentials file not found from the list of options:\\n'\n",
    "        for opt in path_options:\n",
    "            err += f'\\t- {opt}\\n'\n",
    "        raise Exception(err)\n",
    "         \n",
    "    c = creds.get(conn)\n",
    "    if not c:\n",
    "        raise Exception(f'\\nNo data found for connnection named {conn}!\\n')\n",
    "        \n",
    "    db_url = f\"\"\"\\\n",
    "            {c['driver'].lower()}://{c['username']}:\\\n",
    "            {c['password']}@{c['host']}:{c['port']}/{c['database']}\"\"\"\n",
    "    return re.sub('\\s+', '', db_url)\n",
    "\n",
    "DB_URL = get_db_url()\n",
    "CON = sqlalchemy.create_engine(DB_URL)\n",
    "\n",
    "#modify or delete\n",
    "TEST_PARAMS = {'start_date':'2022-01-01 00:00:00'}\n",
    "              \n",
    "SQL = \"\"\"\n",
    "with dummy_query as (\n",
    "  select \n",
    "    date_trunc('day', series)::date as day,\n",
    "    round((random() * 9 + 1)::numeric, 1) as num\n",
    "  from generate_series(%(start_date)s::timestamp,\n",
    "                       %(start_date)s::timestamp + interval '7 days', \n",
    "                       '1 day'::interval\n",
    "                       ) series\n",
    ")\n",
    "select * from dummy_query\n",
    "\"\"\"\n",
    "df = pd.read_sql(SQL, CON, params=TEST_PARAMS)"
   ]
  },
  {
   "cell_type": "markdown",
   "id": "bbbf9a63-35d9-4770-adc1-d4a62da31c6d",
   "metadata": {},
   "source": [
    "## Background<a class=\"anchor\" id=\"background\"></a>:"
   ]
  },
  {
   "cell_type": "code",
   "execution_count": null,
   "id": "cfbe9ee8-8550-40d5-bdb8-55dd10e1195a",
   "metadata": {},
   "outputs": [],
   "source": [
    "text = f\"\"\"\n",
    "Here is the text for the background. And here is the first footnote<a href=\"#footnote1\"><sup>1</sup></a>.\n",
    "\"\"\"\n",
    "display(Markdown(text))"
   ]
  },
  {
   "cell_type": "markdown",
   "id": "0636640e-aa8d-4568-b2eb-fe4d9deafa2c",
   "metadata": {},
   "source": [
    "## Executive Summary<a class=\"anchor\" id=\"summary\"></a>:"
   ]
  },
  {
   "cell_type": "code",
   "execution_count": null,
   "id": "fe42d324-181a-421a-b761-afa66dd36bb1",
   "metadata": {},
   "outputs": [],
   "source": [
    "text = f\"\"\"\n",
    "Here is the text for the executive summary. And here is the second footnote<a href=\"#footnote2\"><sup>2</sup></a>.\n",
    "\n",
    "When referencing more specific things (like technical definitions) that don't belong in a high-level summary, you can reference the\n",
    "[Appendix](#Appendix).\n",
    "\"\"\"\n",
    "display(Markdown(text))"
   ]
  },
  {
   "cell_type": "markdown",
   "id": "6562cdb9-9b4d-4d8c-94ec-5ab3bf2aea31",
   "metadata": {},
   "source": [
    "## Q1 (Heading Level 2) <a class=\"anchor\" id=\"q1\"></a>"
   ]
  },
  {
   "cell_type": "code",
   "execution_count": null,
   "id": "73608fe8-8559-40ca-89e1-30012820d0e7",
   "metadata": {},
   "outputs": [],
   "source": [
    "text = f\"\"\"\n",
    "Here is the text for the first question. And here is the third footnote<a href=\"#footnote3\"><sup>3</sup></a>.\n",
    "\n",
    "The question-level (i.e. a section) should be heading level 2 (i.e. `<h2>` in HTML or `##` in Markdown), **along with the the executive summary and\n",
    "table of contents**.\n",
    "- This is essentially the \"top-level\", as `<h1>` is only reserved for the title of the report.\n",
    "\"\"\"\n",
    "display(Markdown(text))"
   ]
  },
  {
   "cell_type": "markdown",
   "id": "475496a7-559e-4ff3-acc4-1527af50da29",
   "metadata": {},
   "source": [
    "### Q1a (Heading Level 3) <a class=\"anchor\" id=\"1a\"></a>"
   ]
  },
  {
   "cell_type": "code",
   "execution_count": null,
   "id": "1a62fed0-3060-40ea-a149-52e567afd28b",
   "metadata": {},
   "outputs": [],
   "source": [
    "text = f\"\"\"\n",
    "Sub-sections within a question should be heading level 3 (i.e. `<h3>` in HTML or `###` in Markdown).\n",
    "\"\"\"\n",
    "display(Markdown(text))"
   ]
  },
  {
   "cell_type": "markdown",
   "id": "aa1fa8ed-eb20-4be5-a8a8-535f386a0346",
   "metadata": {},
   "source": [
    "#### Sub-Sub-Section (Heading Level 4)<a class=\"anchor\" id=\"descriptive_name\"></a>"
   ]
  },
  {
   "cell_type": "code",
   "execution_count": null,
   "id": "10004171-308b-4954-a85f-548a11e0ec5b",
   "metadata": {},
   "outputs": [],
   "source": [
    "text = f\"\"\"\n",
    "Sub-sections within a sub-section within a question should be heading level 4 (i.e. `<h4>` in HTML or `####` in Markdown).\n",
    "\"\"\"\n",
    "display(Markdown(text))"
   ]
  },
  {
   "cell_type": "markdown",
   "id": "1f36ef9d-59f1-41a5-a23e-426dffbff3fd",
   "metadata": {},
   "source": [
    "#### Sub-Sub-Sub-Section (Heading Level 5)<a class=\"anchor\" id=\"descriptive_name\"></a>"
   ]
  },
  {
   "cell_type": "code",
   "execution_count": null,
   "id": "767e7ecf-d10b-4b64-98a8-184f4aa39cc2",
   "metadata": {},
   "outputs": [],
   "source": [
    "text = f\"\"\"\n",
    "The deepest level allowed is heading level 5 (i.e. `<h5>` in HTML or `#####` in Markdown). \n",
    "\n",
    "- This is the lowest heading level that is targeted by my \n",
    "[flowkey nbconvert template](https://github.com/pawlodkowski/nbconvert_flowkey/blob/master/share/jupyter/nbconvert/templates/flowkey/index.html.j2) and\n",
    "given styling and anchor links for easier navigating / internal hyperlinking.\n",
    "- Using anything lower will just be turned into regular text in the HTML report (_which won't look nice_).\n",
    "\"\"\"\n",
    "display(Markdown(text))"
   ]
  },
  {
   "cell_type": "markdown",
   "id": "d939f35a-50d8-4e0f-877a-6ad096d23011",
   "metadata": {},
   "source": [
    "### Q1b (Heading Level 3) <a class=\"anchor\" id=\"1b\"></a> "
   ]
  },
  {
   "cell_type": "code",
   "execution_count": null,
   "id": "138b1efe-be3d-46e7-8694-dc720a186299",
   "metadata": {},
   "outputs": [],
   "source": [
    "text = f\"\"\"\n",
    "some text here...\n",
    "\"\"\"\n",
    "display(Markdown(text))"
   ]
  },
  {
   "cell_type": "markdown",
   "id": "f04e5f2c-98b9-4235-a0b2-9444e284ea35",
   "metadata": {},
   "source": [
    "## Q2 (Heading Level 2)<a class=\"anchor\" id=\"q2\"></a>"
   ]
  },
  {
   "cell_type": "code",
   "execution_count": null,
   "id": "bdf3ccc8-7b44-42a2-9d3d-6ec2af0e8360",
   "metadata": {},
   "outputs": [],
   "source": [
    "text = f\"\"\"\n",
    "some text here...\n",
    "\"\"\"\n",
    "display(Markdown(text))"
   ]
  },
  {
   "cell_type": "markdown",
   "id": "95f1a857-2733-4c4e-bda7-a932fe9352dd",
   "metadata": {},
   "source": [
    "### Q2a (Heading Level 3)<a class=\"anchor\" id=\"2a\"></a>"
   ]
  },
  {
   "cell_type": "code",
   "execution_count": null,
   "id": "eef7354c-6cbe-4c51-9564-3cb9a1c6df4e",
   "metadata": {},
   "outputs": [],
   "source": [
    "text = f\"\"\"\n",
    "some text here...\n",
    "\"\"\"\n",
    "display(Markdown(text))"
   ]
  },
  {
   "cell_type": "markdown",
   "id": "abd84606-3f1d-41aa-968b-1fbbe22333ad",
   "metadata": {},
   "source": [
    "### Q2b (Heading Level 3) <a class=\"anchor\" id=\"2b\"></a> "
   ]
  },
  {
   "cell_type": "code",
   "execution_count": null,
   "id": "ee02b7c4-9b65-4163-a0c5-b2f7dd5d83fc",
   "metadata": {},
   "outputs": [],
   "source": [
    "text = f\"\"\"\n",
    "some text here...\n",
    "\"\"\"\n",
    "display(Markdown(text))"
   ]
  },
  {
   "cell_type": "markdown",
   "id": "7cbb16c8-da82-4387-ab70-34ee253b9252",
   "metadata": {},
   "source": [
    "## Appendix<a class=\"anchor\" id=\"Appendix\"></a>"
   ]
  },
  {
   "cell_type": "code",
   "execution_count": null,
   "id": "9e68bc2a-68e0-42de-aaf0-a2679b8a34ec",
   "metadata": {},
   "outputs": [],
   "source": [
    "text = f\"\"\"\n",
    "This is the text for the appendix. \n",
    "\"\"\"\n",
    "display(Markdown(text))"
   ]
  },
  {
   "cell_type": "markdown",
   "id": "2d175258-dcc3-496e-b5a6-bbabfa1251d4",
   "metadata": {},
   "source": [
    "## Footnotes<a class=\"anchor\" id=\"Footnotes\"></a>"
   ]
  },
  {
   "cell_type": "markdown",
   "id": "6ca09dbf-dca5-478d-9e47-dff624e867e5",
   "metadata": {},
   "source": [
    "**<a name=\"footnote1\">1</a>:** _Here is the text for footnote 1._\n",
    "\n",
    "**<a name=\"footnote2\">2</a>:** _Here is the text for footnote 2._\n",
    "\n",
    "**<a name=\"footnote2\">3</a>:** _Here is the text for footnote 3._"
   ]
  },
  {
   "cell_type": "code",
   "execution_count": null,
   "id": "bce0809b-7382-433a-b439-2736f0ab956b",
   "metadata": {
    "jupyter": {
     "source_hidden": true
    },
    "tags": []
   },
   "outputs": [],
   "source": [
    "display_html(\n",
    "    '<div id=\"timestamp_container\"\\\n",
    "    style=\"display: flex; justify-content: center; align-items: center; font-size:smaller; color: dimgray\">\\\n",
    "    <p><i>Report generated at: <span id=\"timestamp\" style=\"font-weight:bold; margin:5px\">{} (UTC)</span></i></p></div>'\\\n",
    "    .format(datetime.utcnow().strftime('%Y-%m-%d @ %H:%M:%S')),\n",
    "    raw=True\n",
    ")"
   ]
  }
 ],
 "metadata": {
  "kernelspec": {
   "display_name": "Python 3 (ipykernel)",
   "language": "python",
   "name": "python3"
  },
  "language_info": {
   "codemirror_mode": {
    "name": "ipython",
    "version": 3
   },
   "file_extension": ".py",
   "mimetype": "text/x-python",
   "name": "python",
   "nbconvert_exporter": "python",
   "pygments_lexer": "ipython3",
   "version": "3.9.5"
  },
  "toc-autonumbering": false,
  "toc-showcode": true,
  "toc-showmarkdowntxt": false
 },
 "nbformat": 4,
 "nbformat_minor": 5
}
